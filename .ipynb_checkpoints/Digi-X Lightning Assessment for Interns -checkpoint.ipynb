{
 "cells": [
  {
   "cell_type": "markdown",
   "metadata": {},
   "source": [
    "# Digi-X Lightning Assessment for Interns "
   ]
  },
  {
   "cell_type": "markdown",
   "metadata": {},
   "source": [
    "### Contact Details"
   ]
  },
  {
   "cell_type": "markdown",
   "metadata": {},
   "source": [
    "<b> Name: </b> Bhanuka Manesha Samarasekara Vitharana Gamage <br>\n",
    "\n",
    "<b> Email: </b> bsam0002@student.monash.edu <br>\n",
    "\n",
    "<b> Contact number: </b> +60 17 689 4092 <br>\n",
    "\n",
    "<b> Starting date: </b> After 15th November <br>\n",
    "\n",
    "<b> Internship duration: </b>12 Weeks or more <br>\n",
    "\n",
    "<b> Portfolio link (optional): </b> https://github.com/bhanukaManesha/Digi-X"
   ]
  },
  {
   "cell_type": "markdown",
   "metadata": {},
   "source": [
    "#### Section 1:"
   ]
  },
  {
   "cell_type": "markdown",
   "metadata": {},
   "source": [
    "You are tasked in building a new product, an online restaurant reservation platform - choose a front-end language/framework, back-end language/framework and a database management system. Tell us why you’ve chosen this stack:"
   ]
  },
  {
   "cell_type": "markdown",
   "metadata": {},
   "source": [
    "* <b> Front End Language: </b> TypeScript <br>\n",
    "* <b> Front End Framework: </b> Angular\n",
    "\n",
    "* <b> Back End Language: </b>TypeScript <br>\n",
    "* <b> Back End Framework: </b> NodeJS\n",
    "\n",
    "* <b> Database Management System: </b> MySQL\n",
    "\n",
    "The reason for using Angular as the front end framework would be its efficency. Since Angular apps can do most of the work on the edge base devices, the server overload will be less. \n",
    "\n",
    "The reason for choosing NodeJS is the consistency for both the back end and the front end codebase for the programmers.\n",
    "The backend server can be used to communicate with the database to validate the reservation without reloading the app and check for concurrent reservation and send requests to the customer in real time of all the reservations.\n",
    "\n",
    "The reason to choose MySQL for the DBMS is the ease of use and it available for free. But if security is a major concern we can upgrade the DBMS to a better one such as MongoDB"
   ]
  },
  {
   "cell_type": "markdown",
   "metadata": {},
   "source": [
    "#### Section 2:"
   ]
  },
  {
   "cell_type": "markdown",
   "metadata": {},
   "source": [
    "In the programming language of your choice, write the solution for the following questions: <br>\n",
    "\n",
    "1. Write a for loop that prints all the multiples of 3 and 5 up to 100:  <br>\n",
    "\n",
    "       3,5,6,9,10...100\n"
   ]
  },
  {
   "cell_type": "code",
   "execution_count": 1,
   "metadata": {},
   "outputs": [
    {
     "name": "stdout",
     "output_type": "stream",
     "text": [
      "0, 3, 5, 6, 9, 10, 12, 15, 18, 20, 21, 24, 25, 27, 30, 33, 35, 36, 39, 40, 42, 45, 48, 50, 51, 54, 55, 57, 60, 63, 65, 66, 69, 70, 72, 75, 78, 80, 81, 84, 85, 87, 90, 93, 95, 96, 99, 100, "
     ]
    }
   ],
   "source": [
    "for i in range(101):\n",
    "    if i % 3 == 0 or i % 5 == 0:\n",
    "        print(i,end = ', ')"
   ]
  },
  {
   "cell_type": "markdown",
   "metadata": {},
   "source": [
    "2. Sort the array[100,2,5,13,29,68,87,4,17,45,54] with as little lines of code as possible:"
   ]
  },
  {
   "cell_type": "code",
   "execution_count": 2,
   "metadata": {},
   "outputs": [],
   "source": [
    "def countingSort(alist):\n",
    "    max_value = max(alist)\n",
    "    count = [0 for i in range(max_value+1)]\n",
    "    # Counting the numbers in the array\n",
    "    # O(M)\n",
    "    for character in alist:\n",
    "        count[character] += 1\n",
    "    # O(M)\n",
    "    alist = []\n",
    "    # O(1)\n",
    "    for i in range(len(count)):\n",
    "        if count[i] != 0:\n",
    "            # O(M)\n",
    "            while count[i] > 0:\n",
    "                alist.append(i)\n",
    "                count[i]-=1\n",
    "    # O(M)\n",
    "    return alist"
   ]
  },
  {
   "cell_type": "code",
   "execution_count": 3,
   "metadata": {},
   "outputs": [
    {
     "name": "stdout",
     "output_type": "stream",
     "text": [
      "[2, 4, 5, 13, 17, 29, 45, 54, 68, 87, 100]\n"
     ]
    }
   ],
   "source": [
    "array = [100,2,5,13,29,68,87,4,17,45,54]\n",
    "sorted_array = countingSort(array)\n",
    "print(sorted_array)"
   ]
  },
  {
   "cell_type": "markdown",
   "metadata": {},
   "source": [
    "> This approach runs in O(M) where M is the maximum number in the array. So in this case, both the space and time complexity would be O(M). If the maximum number was a large number, or a float value, this sorting algorithm will be ineffcient. The reason for this is it allocates M amount of space. And if the all the numbers except for one number is small, this approach will create wasted space and will deacrese the efficency. In that case, it would be better to use a sorting algorithm such as Quick Sort."
   ]
  },
  {
   "cell_type": "markdown",
   "metadata": {},
   "source": [
    "3. Write a function that detects whether a string is a palindrome: <br>\n",
    "    a. ‘tacocat’→true <br>\n",
    "    b. ‘racecar’→true <br>\n",
    "    c. ‘beanbag’ → false <br>\n",
    "    d. ‘Hannah’→true <br>"
   ]
  },
  {
   "cell_type": "code",
   "execution_count": 4,
   "metadata": {},
   "outputs": [
    {
     "name": "stdout",
     "output_type": "stream",
     "text": [
      "The string tacocat is a palindrome\n",
      "The string racecar is a palindrome\n",
      "The string beanbag is not a palindrome\n",
      "The string Hannah is a palindrome\n"
     ]
    }
   ],
   "source": [
    "string_list = ['tacocat', 'racecar', 'beanbag', 'Hannah']\n",
    "\n",
    "for string in string_list:\n",
    "    if string.lower() == string[::-1].lower():\n",
    "        print('The string ' + string + ' is a palindrome')\n",
    "    else:\n",
    "        print('The string ' + string + ' is not a palindrome')"
   ]
  },
  {
   "cell_type": "markdown",
   "metadata": {},
   "source": [
    "> This algorithm will run in O(N) where N is the length of a string, since the equal method compares each character in the string."
   ]
  }
 ],
 "metadata": {
  "kernelspec": {
   "display_name": "Python 3",
   "language": "python",
   "name": "python3"
  },
  "language_info": {
   "codemirror_mode": {
    "name": "ipython",
    "version": 3
   },
   "file_extension": ".py",
   "mimetype": "text/x-python",
   "name": "python",
   "nbconvert_exporter": "python",
   "pygments_lexer": "ipython3",
   "version": "3.7.3"
  }
 },
 "nbformat": 4,
 "nbformat_minor": 2
}
